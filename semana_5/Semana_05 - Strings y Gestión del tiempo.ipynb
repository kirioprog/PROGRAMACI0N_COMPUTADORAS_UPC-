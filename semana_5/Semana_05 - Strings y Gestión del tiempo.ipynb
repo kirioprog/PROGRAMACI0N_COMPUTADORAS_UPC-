{
 "cells": [
  {
   "cell_type": "markdown",
   "metadata": {
    "user_expressions": []
   },
   "source": [
    "# Strings y Gestión del tiempo\n",
    "![](https://www.scientecheasy.com/wp-content/uploads/2023/01/python-strings.png)\n",
    "\n",
    "Ref: https://www.scientecheasy.com/2023/01/strings-in-python.html/\n",
    "\n",
    "<div style=\"text-align: right\">Autor: Luis A. Muñoz - 2024 </div>"
   ]
  },
  {
   "cell_type": "markdown",
   "metadata": {
    "user_expressions": []
   },
   "source": [
    "Ideas clave:\n",
    "* Los strings representan cadenas de caracteres y son objetos inmutables\n",
    "* Los strings soportan indexación como las listas y tuplas.\n",
    "* Los caracteres en Python son datos codificados en utf-8 como valores enteros.\n",
    "* La manipulación de strings se realiza por medio de los métodos de la clase string\n",
    "* Los archivos son objetos almacenados en el File System del Sistema Operativo.\n",
    "* Un archivo puede ser de texto o de datos binarios.\n",
    "* Python puede acceder a los archivos utilizando la instrucción open() y luego cerrarlos con la instucción close(). No se debe dejar un archivo abierto en el sistema.\n",
    "* Se puede utilizar un Context Manager (with) para controlar el acceso a los archivos.\n",
    "* Al abrir un archivo en Python se genera un cursor, un puntero que \"apunta\" a la primera linea de un archivo de texto.\n",
    "* Los métodos read(), readline() y readlines() permiten leer el texto de un archivo de texto.\n",
    "* Lo métodos write() y writelines() permiten escribir en un archivo de texto.\n",
    "* El cursor de un archivo de texto es un iterable; esto es, que si se incluye en un lazo for leera cada línea de un archivo de texto hasta el final.\n",
    "\n",
    "Informacion:\n",
    "\n",
    "* https://www.programiz.com/python-programming/string\n",
    "* https://apuntes.de/python/trabajo-con-archivos-en-python-lectura-y-escritura-simplificada/#gsc.tab=0\n",
    "---"
   ]
  },
  {
   "cell_type": "markdown",
   "metadata": {
    "tags": [],
    "user_expressions": []
   },
   "source": [
    "## strings (`str`) en Python\n",
    "Un string es una secuencia de caracteres (aunque esta secuencia tenga cero elementos, como una cadena vacia \"\"). Este puede ser especificado utilizando comillas doblas, simples o inclusive triple comilla."
   ]
  },
  {
   "cell_type": "code",
   "execution_count": 1,
   "metadata": {},
   "outputs": [
    {
     "name": "stdout",
     "output_type": "stream",
     "text": [
      "Soy un string\n",
      "También soy un string\n",
      "Y yo tambien soy un string\n",
      "Y por supuesto yo tambien\n",
      "<class 'str'>\n"
     ]
    }
   ],
   "source": [
    "print(\"Soy un string\")\n",
    "print('También soy un string')\n",
    "print(\"\"\"Y yo tambien soy un string\"\"\")\n",
    "print('''Y por supuesto yo tambien''')\n",
    "\n",
    "print(type(\"\"))"
   ]
  },
  {
   "cell_type": "markdown",
   "metadata": {
    "user_expressions": []
   },
   "source": [
    "No existe diferencia entre utilizar \"\" o '' aunque si en los casos de triple comilla, ya que aqui se define un bloque string con formato incluido. Por ejemplo:"
   ]
  },
  {
   "cell_type": "code",
   "execution_count": 2,
   "metadata": {},
   "outputs": [
    {
     "name": "stdout",
     "output_type": "stream",
     "text": [
      "Esto se imprimira en una linea\n",
      "y esto en la segunda linea\n"
     ]
    }
   ],
   "source": [
    "print(\"\"\"Esto se imprimira en una linea\n",
    "y esto en la segunda linea\"\"\")"
   ]
  },
  {
   "cell_type": "markdown",
   "metadata": {
    "user_expressions": []
   },
   "source": [
    "Esto, con una sola comilla, generará un error:"
   ]
  },
  {
   "cell_type": "code",
   "execution_count": 3,
   "metadata": {},
   "outputs": [
    {
     "ename": "SyntaxError",
     "evalue": "unterminated string literal (detected at line 1) (2004609760.py, line 1)",
     "output_type": "error",
     "traceback": [
      "\u001b[1;36m  Cell \u001b[1;32mIn[3], line 1\u001b[1;36m\u001b[0m\n\u001b[1;33m    print(\"Esto se imprimira en una linea\u001b[0m\n\u001b[1;37m          ^\u001b[0m\n\u001b[1;31mSyntaxError\u001b[0m\u001b[1;31m:\u001b[0m unterminated string literal (detected at line 1)\n"
     ]
    }
   ],
   "source": [
    "print(\"Esto se imprimira en una linea\n",
    "y esto en la segunda linea\")"
   ]
  },
  {
   "cell_type": "markdown",
   "metadata": {
    "user_expressions": []
   },
   "source": [
    "Aunque se puede utilizar el caracter de escape `\\` para indicar que la instrucción continúa en la línea de abajo, pero la impresión se mantiene en la misma linea porque no existe un caracter de escape de nueva línea (como `\\n`)."
   ]
  },
  {
   "cell_type": "code",
   "execution_count": 4,
   "metadata": {},
   "outputs": [
    {
     "name": "stdout",
     "output_type": "stream",
     "text": [
      "Esto se imprimirá en una linea y esto también\n"
     ]
    }
   ],
   "source": [
    "print(\"Esto se imprimirá en una linea \\\n",
    "y esto también\")"
   ]
  },
  {
   "cell_type": "markdown",
   "metadata": {
    "user_expressions": []
   },
   "source": [
    "Las cadenas son tipos de datos que son indexables, es decir que al igual que las tuplas y listas, soportan índices e index slicing. Revise las siguientes instrucciones y evalúe los resultados obtenidos (se anota el tipo como referencia):"
   ]
  },
  {
   "cell_type": "code",
   "execution_count": 5,
   "metadata": {},
   "outputs": [
    {
     "name": "stdout",
     "output_type": "stream",
     "text": [
      "S\n",
      "a\n",
      "Soy un tex\n",
      "S  x  ua\n",
      "abeurp ed otxet nu yoS\n"
     ]
    }
   ],
   "source": [
    "texto: str = \"Soy un texto de prueba\"\n",
    "\n",
    "print(texto[0])\n",
    "print(texto[-1])\n",
    "print(texto[:10])\n",
    "print(texto[::3])\n",
    "print(texto[::-1])"
   ]
  },
  {
   "cell_type": "markdown",
   "metadata": {
    "user_expressions": []
   },
   "source": [
    "Una característica importante a considerar es que los string __son inmutables__: "
   ]
  },
  {
   "cell_type": "code",
   "execution_count": 6,
   "metadata": {},
   "outputs": [
    {
     "ename": "TypeError",
     "evalue": "'str' object does not support item assignment",
     "output_type": "error",
     "traceback": [
      "\u001b[1;31m---------------------------------------------------------------------------\u001b[0m",
      "\u001b[1;31mTypeError\u001b[0m                                 Traceback (most recent call last)",
      "Cell \u001b[1;32mIn[6], line 1\u001b[0m\n\u001b[1;32m----> 1\u001b[0m texto[\u001b[38;5;241m0\u001b[39m] \u001b[38;5;241m=\u001b[39m \u001b[38;5;124m'\u001b[39m\u001b[38;5;124ms\u001b[39m\u001b[38;5;124m'\u001b[39m\n",
      "\u001b[1;31mTypeError\u001b[0m: 'str' object does not support item assignment"
     ]
    }
   ],
   "source": [
    "texto[0] = 's'"
   ]
  },
  {
   "cell_type": "markdown",
   "metadata": {
    "user_expressions": []
   },
   "source": [
    "El error que arroja el intérprete de Python es el mismo que se obtenía al intentar asignar un valor a un elemento de una tupla: este objeto no soporta asignación de items.\n",
    "\n",
    "Por otro lado, un string es un *iterable*, es decir que puede formar parte de un lazo `for` y retornará cada caracter de un string (incluyendo los espacios en blanco: también son caracteres)."
   ]
  },
  {
   "cell_type": "code",
   "execution_count": 8,
   "metadata": {},
   "outputs": [
    {
     "name": "stdout",
     "output_type": "stream",
     "text": [
      "S\n",
      "T\n",
      "R\n",
      "I\n",
      "N\n",
      "G\n"
     ]
    }
   ],
   "source": [
    "for char in 'STRING':\n",
    "    print(char)"
   ]
  },
  {
   "cell_type": "markdown",
   "metadata": {},
   "source": [
    "## Operaciones y funciones útiles con strings"
   ]
  },
  {
   "cell_type": "markdown",
   "metadata": {},
   "source": [
    "Los strings soportan los operadores `+` y `*`:"
   ]
  },
  {
   "cell_type": "code",
   "execution_count": null,
   "metadata": {},
   "outputs": [],
   "source": [
    "print(\"z\" * 3 + \".\" * 6)"
   ]
  },
  {
   "cell_type": "markdown",
   "metadata": {
    "user_expressions": []
   },
   "source": [
    "Así también, la función `len()` permite conocer el número de caracteres de un string (de forma semejante a el número de elementos de una tupla/lista). Combinado con lo anterior, por ejemplo, se puede subrayar un texto de forma interactiva:"
   ]
  },
  {
   "cell_type": "code",
   "execution_count": 17,
   "metadata": {},
   "outputs": [
    {
     "name": "stdout",
     "output_type": "stream",
     "text": [
      "MENSAJE A SUBRAYAR\n",
      "==================\n"
     ]
    }
   ],
   "source": [
    "titulo = \"MENSAJE A SUBRAYAR\"\n",
    "print(titulo)\n",
    "print(\"=\" * len(titulo))"
   ]
  },
  {
   "cell_type": "markdown",
   "metadata": {},
   "source": [
    "Los caracteres son almacenados en un sistema informático como valores enteros. Los caracteres en idioma inglés se pueden representar con 8 bits y están especificados bajo el estándar ASCII. Sin embargo, los demás juegos de caracteres (como el español, portugués, ruso, etc.) amplian el estándar (llamado Unicode) y el número de bits necesarios por caracter, de forma tal que hay caracteres de 1 byte y otros de hasta 4 bytes. El estándar UTF-8 soporta una codificación de tamaño variable y es el estándar utilizado por Python.\n",
    "\n",
    "Para conocer el codigo Unicode de un caracter se recurre a la funcion `ord()`, y para conocer el caracter al que le corresponde un código Unicode se utiliza `chr()`:"
   ]
  },
  {
   "cell_type": "code",
   "execution_count": 10,
   "metadata": {},
   "outputs": [
    {
     "name": "stdout",
     "output_type": "stream",
     "text": [
      "A = 65\n",
      "65 = A\n"
     ]
    }
   ],
   "source": [
    "print(\"A =\", ord(\"A\"))\n",
    "print(\"65 =\", chr(65))"
   ]
  },
  {
   "cell_type": "markdown",
   "metadata": {},
   "source": [
    "## Métodos de un str\n",
    "La lista de métodos de un string es bastante amplia:"
   ]
  },
  {
   "cell_type": "code",
   "execution_count": 11,
   "metadata": {
    "scrolled": true,
    "tags": []
   },
   "outputs": [
    {
     "data": {
      "text/plain": [
       "['__add__',\n",
       " '__class__',\n",
       " '__contains__',\n",
       " '__delattr__',\n",
       " '__dir__',\n",
       " '__doc__',\n",
       " '__eq__',\n",
       " '__format__',\n",
       " '__ge__',\n",
       " '__getattribute__',\n",
       " '__getitem__',\n",
       " '__getnewargs__',\n",
       " '__gt__',\n",
       " '__hash__',\n",
       " '__init__',\n",
       " '__init_subclass__',\n",
       " '__iter__',\n",
       " '__le__',\n",
       " '__len__',\n",
       " '__lt__',\n",
       " '__mod__',\n",
       " '__mul__',\n",
       " '__ne__',\n",
       " '__new__',\n",
       " '__reduce__',\n",
       " '__reduce_ex__',\n",
       " '__repr__',\n",
       " '__rmod__',\n",
       " '__rmul__',\n",
       " '__setattr__',\n",
       " '__sizeof__',\n",
       " '__str__',\n",
       " '__subclasshook__',\n",
       " 'capitalize',\n",
       " 'casefold',\n",
       " 'center',\n",
       " 'count',\n",
       " 'encode',\n",
       " 'endswith',\n",
       " 'expandtabs',\n",
       " 'find',\n",
       " 'format',\n",
       " 'format_map',\n",
       " 'index',\n",
       " 'isalnum',\n",
       " 'isalpha',\n",
       " 'isascii',\n",
       " 'isdecimal',\n",
       " 'isdigit',\n",
       " 'isidentifier',\n",
       " 'islower',\n",
       " 'isnumeric',\n",
       " 'isprintable',\n",
       " 'isspace',\n",
       " 'istitle',\n",
       " 'isupper',\n",
       " 'join',\n",
       " 'ljust',\n",
       " 'lower',\n",
       " 'lstrip',\n",
       " 'maketrans',\n",
       " 'partition',\n",
       " 'removeprefix',\n",
       " 'removesuffix',\n",
       " 'replace',\n",
       " 'rfind',\n",
       " 'rindex',\n",
       " 'rjust',\n",
       " 'rpartition',\n",
       " 'rsplit',\n",
       " 'rstrip',\n",
       " 'split',\n",
       " 'splitlines',\n",
       " 'startswith',\n",
       " 'strip',\n",
       " 'swapcase',\n",
       " 'title',\n",
       " 'translate',\n",
       " 'upper',\n",
       " 'zfill']"
      ]
     },
     "execution_count": 11,
     "metadata": {},
     "output_type": "execute_result"
    }
   ],
   "source": [
    "dir(str)"
   ]
  },
  {
   "cell_type": "markdown",
   "metadata": {
    "user_expressions": []
   },
   "source": [
    "Así que vamos a revisar los de uso más común y separarlos por categorías. \n",
    "\n",
    "### Métodos que eliminan caracteres\n",
    "Vamos a revisar los métodos que modifican un `str` eliminando caracteres innecesarios. Aqui debemos entender que \"modificar\" un `str` significa obtener un nuevo  `str` modificado (no como en las listas, en donde se modificaba la lista misma). Entonces podemos utilizar estos métodos con `print` ya que generamos una cadena de caracteres nueva que puede ser impresa.\n",
    "\n",
    "Tenemos los métodos que eliminan los caracteres de \"cabeza\" y \"cola\" en un `str`. Por defecto, estos son los espacios en blanco.\n",
    "\n",
    "    * str.strip()      : Elimina los caracteres adicionales \n",
    "                         al inicio y al final de una cadena\n",
    "    * str.lstrip()     : Elimina los caracteres adicionales al \n",
    "                         inicio de una cadena (es decir, a la izquierda. \"l\": left)\n",
    "    * str.rstrip()     : Elimina los caracteres adicionales al \n",
    "                         final de una cadena (es decir, a la derecha. \"r\": right)\n",
    "    \n",
    "Veamos algunos ejemplos:"
   ]
  },
  {
   "cell_type": "code",
   "execution_count": 1,
   "metadata": {},
   "outputs": [
    {
     "name": "stdout",
     "output_type": "stream",
     "text": [
      "|       este es un texto de prueba    |\n",
      "|este es un texto de prueba|\n",
      "|este es un texto de prueba    |\n",
      "|       este es un texto de prueba|\n"
     ]
    }
   ],
   "source": [
    "texto: str = \"       este es un texto de prueba    \"\n",
    "\n",
    "print(\"|{}|\".format(texto))            # texto original (como caracteres de limites)\n",
    "print(\"|{}|\".format(texto.strip()))    # strip: despojar (no tiene espacios en blanco antes ni despues)\n",
    "print(\"|{}|\".format(texto.lstrip()))   # l: left (no tiene caracteres especiales antes)\n",
    "print(\"|{}|\".format(texto.rstrip()))   # r: right (no tiene caracteres especiales despues)"
   ]
  },
  {
   "cell_type": "markdown",
   "metadata": {
    "user_expressions": []
   },
   "source": [
    "Estos métodos permiten especificar los caracteres que se quieran eliminar al principio y/o al final. Por ejemplo:"
   ]
  },
  {
   "cell_type": "code",
   "execution_count": 13,
   "metadata": {},
   "outputs": [
    {
     "name": "stdout",
     "output_type": "stream",
     "text": [
      "banana\n"
     ]
    }
   ],
   "source": [
    "print(\",,,,,rrttgg.....banana....rrr\".strip(\",.grt\"))"
   ]
  },
  {
   "cell_type": "markdown",
   "metadata": {},
   "source": [
    "Esto también es válido para los caracteres de escape como `\\n`. Por ejemplo:"
   ]
  },
  {
   "cell_type": "code",
   "execution_count": 14,
   "metadata": {},
   "outputs": [
    {
     "name": "stdout",
     "output_type": "stream",
     "text": [
      "Al final de este mensaje hay un caracter de nueva linea\n",
      "...\n",
      "Al final de este mensaje ya no hay un caracter de nueva línea...\n"
     ]
    }
   ],
   "source": [
    "print(\"Al final de este mensaje hay un caracter de nueva linea\\n\", end='')   # end='' es para evitar el \\n del print()\n",
    "print(\"...\")\n",
    "print(\"Al final de este mensaje ya no hay un caracter de nueva línea\\n\".strip(), end='')\n",
    "print(\"...\")"
   ]
  },
  {
   "cell_type": "markdown",
   "metadata": {
    "user_expressions": []
   },
   "source": [
    "### Métodos de cambian los caracteres de un str\n",
    "Otros métodos modifican los caracteres de un str:\n",
    "    \n",
    "    * str.capitalize()      : Capitaliza un str, es decir, convierte el primer caracter del str en mayuscula\n",
    "    * str.title()           : Convierte un str en un \"titulo\", es decir, la primer letra de cada palabra en mayuscula\n",
    "    * str.upper()           : Convierte todo el str en MAYUSCULAS\n",
    "    * str.lower()           : Convierte todo el str en minusculas\n",
    "    * str.swapcase()        : Intercambia MAYUSCULAS por minúsculas y viceversa"
   ]
  },
  {
   "cell_type": "code",
   "execution_count": 15,
   "metadata": {},
   "outputs": [
    {
     "name": "stdout",
     "output_type": "stream",
     "text": [
      "Este es un texto de prueba\n",
      "ESTE ES UN TEXTO DE PRUEBA\n",
      "este es un texto de prueba\n",
      "Este Es Un Texto De Prueba\n",
      "eSTE eS uN tEXTO dE pRUEBA\n"
     ]
    }
   ],
   "source": [
    "texto = \"       este es un texto de prueba    \"\n",
    "print(texto.strip().capitalize())\n",
    "print(texto.strip().upper())\n",
    "print(texto.strip().lower())\n",
    "print(texto.strip().title())\n",
    "print(texto.strip().title().swapcase())"
   ]
  },
  {
   "cell_type": "markdown",
   "metadata": {},
   "source": [
    "Considere un detalle de los ejemplos anteriores: como los métodos de un `str` retornan un nuevo `str`, se pueden encadenar en secuencia como en `texto.strip().capitalize()`. Esto, elimina los espacios en blanco al principio y al final de texto y luego capitaliza el `str` anterior."
   ]
  },
  {
   "cell_type": "markdown",
   "metadata": {
    "user_expressions": []
   },
   "source": [
    "### Métodos asociados a ocurencias en un str o substrings\n",
    "Otros métodos cuentan ocurrencias dentro de un `str` (es decír, substrings) o reemplazan su contenido según un criterio de búsqueda:\n",
    "\n",
    "    * str.count(substring)           : Cuenta el número de veces que un substring esta en un string\n",
    "    * str.replace(subtring, str_rep) : Reemplaza un substring por otro string str_rep\n",
    "    * str.find(substring)            : Retorna el indice del string donde se encuentre el caracter \n",
    "                                       inicial de un substring\n",
    "    * str.rfind(substring)           : Retorna el indice del string donde se encuentre el caracter inicial \n",
    "                                       de un substring. Busca el substring de derecha a izquierda"
   ]
  },
  {
   "cell_type": "code",
   "execution_count": 16,
   "metadata": {},
   "outputs": [
    {
     "name": "stdout",
     "output_type": "stream",
     "text": [
      "2\n",
      "este no es un texto de prueba\n",
      "0\n",
      "5\n"
     ]
    }
   ],
   "source": [
    "texto: str = \"este es un texto de prueba\"\n",
    "print(texto.count(\"es\"))\n",
    "print(texto.replace(\"es \", \"no es \"))\n",
    "print(texto.find(\"es\")) \n",
    "print(texto.rfind(\"es\"))   # Entiende porque se obtiene el 5 como resultado?"
   ]
  },
  {
   "cell_type": "markdown",
   "metadata": {
    "user_expressions": []
   },
   "source": [
    "### Los métodos `strip` y `join`\n",
    "Tenemos un método que ya es conocido: split(), pero esta vez vamos a formalizarlo:\n",
    "\n",
    "    * str.strip()      : Retorna una lista de substring separados por algun caracter \n",
    "                         (por defecto, espacio en blanco)"
   ]
  },
  {
   "cell_type": "code",
   "execution_count": null,
   "metadata": {},
   "outputs": [],
   "source": [
    "l_palabras: str = \"una golondrina no hace verano\".split()\n",
    "print(l_palabras)"
   ]
  },
  {
   "cell_type": "markdown",
   "metadata": {},
   "source": [
    "El proceso inverso se puede realizar con el método join():\n",
    "\n",
    "    * str.join(lista)  : Retorna un cadena con los substring de una lista, unidos por el str"
   ]
  },
  {
   "cell_type": "code",
   "execution_count": null,
   "metadata": {},
   "outputs": [],
   "source": [
    "print(\" \".join(l_palabras))    # Toma las palabras de l_palabras y las une utilizando el \" \""
   ]
  },
  {
   "cell_type": "markdown",
   "metadata": {
    "user_expressions": []
   },
   "source": [
    "### Métodos que consultan por los caracteres\n",
    "Otros métodos de una string incluyen aquellos que consultan si la cadena esta compuesta por caracteres especiales. estos retornan valores booleanos:\n",
    "\n",
    "    * str.isspace()    : True si str esta compuesta de espacios en blanco\n",
    "    * str.isupper()    : True si todos los caracteres de str con MAYUSCULAS\n",
    "    * str.islower()    : True si todos los caracteres de str son minusculas\n",
    "    * str.isdigit()    : True si todos los catracteres de str son digitos\n",
    "    * str.isalpha()    : True si todos los caracteres de str son letras alfabeticas\n",
    "    * str.isalnum()    : True si todos los caracteres de str son letras o números\n",
    "    * str.isprintable(): True si todos los caracteres de str son imprimibles (no son Tab \\n, Enter \\n, etc)"
   ]
  },
  {
   "cell_type": "code",
   "execution_count": null,
   "metadata": {},
   "outputs": [],
   "source": [
    "print(\"abcde\".isalpha())\n",
    "print(\"abc123\".isalpha())\n",
    "print(\"123\".isdigit())\n",
    "print(\"dina4ever\".isalnum())\n",
    "print(\"Hola\\ntexto\".isprintable())\n",
    "print(\"hola\".islower())\n",
    "print(\"HOLA\".isupper())\n",
    "print(\"123\".isupper())\n",
    "print(\"   \".isspace())"
   ]
  },
  {
   "cell_type": "markdown",
   "metadata": {},
   "source": [
    "---\n",
    "## Gestión del tiempo en Python\n",
    "En Python, la información de tiempo es importante ya sea para el control del flujo de un programa o para operar o informar sobre la fecha y hora de un proceso. En Python se puede obtener la información de tiempo utilizando dos librerías: `time` y `datetime`."
   ]
  },
  {
   "cell_type": "markdown",
   "metadata": {},
   "source": [
    "### time\n",
    "La librería `time` permite obtener información del tiempo a partir del reloj del sistema:"
   ]
  },
  {
   "cell_type": "code",
   "execution_count": 2,
   "metadata": {},
   "outputs": [
    {
     "name": "stdout",
     "output_type": "stream",
     "text": [
      "time.struct_time(tm_year=2025, tm_mon=3, tm_mday=10, tm_hour=8, tm_min=5, tm_sec=32, tm_wday=0, tm_yday=69, tm_isdst=0)\n"
     ]
    }
   ],
   "source": [
    "import time\n",
    "\n",
    "print(time.localtime())"
   ]
  },
  {
   "cell_type": "markdown",
   "metadata": {},
   "source": [
    "Esto retorna una _estructura de tiempos_, que es un tipo de colección de Python donde se puede acceder a los diferentes campos utilizando la notación _punto_:"
   ]
  },
  {
   "cell_type": "code",
   "execution_count": 3,
   "metadata": {},
   "outputs": [
    {
     "name": "stdout",
     "output_type": "stream",
     "text": [
      "10/03/2025\n"
     ]
    }
   ],
   "source": [
    "time_now: time = time.localtime()\n",
    "print(f\"{time_now.tm_mday:0>2}/{time_now.tm_mon:0>2}/{time_now.tm_year}\")"
   ]
  },
  {
   "cell_type": "markdown",
   "metadata": {},
   "source": [
    "También permite obtener información de _tiempo universal_, esto es la cantidad de segundos que han transcurrido desde el 1 de Enero del año 1970 medidos en la zona horaria GMT-0, una fecha especial llamada _epoca_ que sirve como inicio del tiempo en todo sistema informático:"
   ]
  },
  {
   "cell_type": "code",
   "execution_count": 8,
   "metadata": {},
   "outputs": [
    {
     "name": "stdout",
     "output_type": "stream",
     "text": [
      "1741194138.023713\n"
     ]
    }
   ],
   "source": [
    "print(time.time())"
   ]
  },
  {
   "cell_type": "markdown",
   "metadata": {},
   "source": [
    "Esta cantidad de segundos se puede convertir a información de tiempo local:"
   ]
  },
  {
   "cell_type": "code",
   "execution_count": 4,
   "metadata": {},
   "outputs": [
    {
     "name": "stdout",
     "output_type": "stream",
     "text": [
      "time.struct_time(tm_year=2000, tm_mon=2, tm_mday=8, tm_hour=3, tm_min=53, tm_sec=20, tm_wday=1, tm_yday=39, tm_isdst=0)\n",
      "time.struct_time(tm_year=2000, tm_mon=2, tm_mday=8, tm_hour=8, tm_min=53, tm_sec=20, tm_wday=1, tm_yday=39, tm_isdst=0)\n"
     ]
    }
   ],
   "source": [
    "secs: int = 950000000\n",
    "print(time.localtime(secs))    # Tiempo en la zona horaria actual (segun OS, GMT-5)\n",
    "print(time.gmtime(secs))       # Tiempo en GMT-0"
   ]
  },
  {
   "cell_type": "markdown",
   "metadata": {},
   "source": [
    "Es importante considerar que el registro del tiempo, en caso se quiere tener una aplicación que no sea regional, almacene el tiempo en formato universal para luego convertirlo a formato local.\n",
    "\n",
    "Otro uso típico de la librería `time` es para generar retrasos en una aplicación con la función `sleep(secs)`:"
   ]
  },
  {
   "cell_type": "code",
   "execution_count": 22,
   "metadata": {},
   "outputs": [
    {
     "name": "stdout",
     "output_type": "stream",
     "text": [
      "Iniciando en 3... 2... 1... 0\n"
     ]
    }
   ],
   "source": [
    "print(\"Iniciando en \", end='')\n",
    "for num in range(3, 0, -1):\n",
    "    print(f\"{num}... \", end='')\n",
    "    time.sleep(1)\n",
    "else:\n",
    "    print(\"0\")"
   ]
  },
  {
   "cell_type": "markdown",
   "metadata": {},
   "source": [
    "Existen dos funciones importantes para la conversión de información de tiempo a un string y viceversa:\n",
    "\n",
    "* time.strftime(str_format, time_struct)     # Convierte una estructura de tiempos a un str con formato\n",
    "* time.strptime(time_struct, str_format)     # Convierte un str con un formato a una estructura de tiempos"
   ]
  },
  {
   "cell_type": "code",
   "execution_count": 5,
   "metadata": {},
   "outputs": [
    {
     "data": {
      "text/plain": [
       "'08:07:06'"
      ]
     },
     "execution_count": 5,
     "metadata": {},
     "output_type": "execute_result"
    }
   ],
   "source": [
    "time_now: time = time.localtime()\n",
    "time.strftime(\"%H:%M:%S\", time_now)"
   ]
  },
  {
   "cell_type": "code",
   "execution_count": 7,
   "metadata": {},
   "outputs": [
    {
     "data": {
      "text/plain": [
       "time.struct_time(tm_year=2025, tm_mon=4, tm_mday=12, tm_hour=0, tm_min=0, tm_sec=0, tm_wday=5, tm_yday=102, tm_isdst=-1)"
      ]
     },
     "execution_count": 7,
     "metadata": {},
     "output_type": "execute_result"
    }
   ],
   "source": [
    "info_fecha: str = \"12/4/2025\"\n",
    "time.strptime(info_fecha, \"%d/%m/%Y\")"
   ]
  },
  {
   "cell_type": "code",
   "execution_count": null,
   "metadata": {},
   "outputs": [],
   "source": [
    "La cadena de formato para el uso de ambas funciones se puede consultar en la ayuda de Python:"
   ]
  },
  {
   "cell_type": "code",
   "execution_count": 33,
   "metadata": {},
   "outputs": [
    {
     "name": "stdout",
     "output_type": "stream",
     "text": [
      "Help on built-in function strftime in module time:\n",
      "\n",
      "strftime(...)\n",
      "    strftime(format[, tuple]) -> string\n",
      "\n",
      "    Convert a time tuple to a string according to a format specification.\n",
      "    See the library reference manual for formatting codes. When the time tuple\n",
      "    is not present, current time as returned by localtime() is used.\n",
      "\n",
      "    Commonly used format codes:\n",
      "\n",
      "    %Y  Year with century as a decimal number.\n",
      "    %m  Month as a decimal number [01,12].\n",
      "    %d  Day of the month as a decimal number [01,31].\n",
      "    %H  Hour (24-hour clock) as a decimal number [00,23].\n",
      "    %M  Minute as a decimal number [00,59].\n",
      "    %S  Second as a decimal number [00,61].\n",
      "    %z  Time zone offset from UTC.\n",
      "    %a  Locale's abbreviated weekday name.\n",
      "    %A  Locale's full weekday name.\n",
      "    %b  Locale's abbreviated month name.\n",
      "    %B  Locale's full month name.\n",
      "    %c  Locale's appropriate date and time representation.\n",
      "    %I  Hour (12-hour clock) as a decimal number [01,12].\n",
      "    %p  Locale's equivalent of either AM or PM.\n",
      "\n",
      "    Other codes may be available on your platform.  See documentation for\n",
      "    the C library strftime function.\n",
      "\n"
     ]
    }
   ],
   "source": [
    "help(time.strftime)"
   ]
  },
  {
   "cell_type": "markdown",
   "metadata": {},
   "source": [
    "### datetime\n",
    "La librería `datetime` genera objetos del mismo tipo que no solo permiten obtener información del tiempo, sino que permite operar con el tiempo. Esta librería tiene un subpaquete llamado así también `datetime` por lo que se suele importar tanto la librería como el subpaquete:"
   ]
  },
  {
   "cell_type": "code",
   "execution_count": 10,
   "metadata": {},
   "outputs": [],
   "source": [
    "from datetime import datetime"
   ]
  },
  {
   "cell_type": "markdown",
   "metadata": {},
   "source": [
    "La función `now()` permite obtener la fecha local"
   ]
  },
  {
   "cell_type": "code",
   "execution_count": 11,
   "metadata": {},
   "outputs": [
    {
     "data": {
      "text/plain": [
       "datetime.datetime(2025, 3, 10, 8, 7, 37, 897852)"
      ]
     },
     "execution_count": 11,
     "metadata": {},
     "output_type": "execute_result"
    }
   ],
   "source": [
    "datetime.now()"
   ]
  },
  {
   "cell_type": "markdown",
   "metadata": {},
   "source": [
    "Note que la función `now()` tiene una representación (es decir, la inspección del objeto `datetime`) diferente a la impresión de este:"
   ]
  },
  {
   "cell_type": "code",
   "execution_count": 12,
   "metadata": {},
   "outputs": [
    {
     "name": "stdout",
     "output_type": "stream",
     "text": [
      "2025-03-10 08:07:39.688516\n"
     ]
    }
   ],
   "source": [
    "print(datetime.now())"
   ]
  },
  {
   "cell_type": "markdown",
   "metadata": {},
   "source": [
    "La librería `datetime` permite obtener el tiempo local a partir de información de tiempo universal GMT-0 (también llamado _timestamp_):"
   ]
  },
  {
   "cell_type": "code",
   "execution_count": 13,
   "metadata": {},
   "outputs": [
    {
     "data": {
      "text/plain": [
       "datetime.datetime(2000, 2, 8, 3, 53, 20)"
      ]
     },
     "execution_count": 13,
     "metadata": {},
     "output_type": "execute_result"
    }
   ],
   "source": [
    "secs: int = 950000000\n",
    "datetime.fromtimestamp(secs)"
   ]
  },
  {
   "cell_type": "markdown",
   "metadata": {},
   "source": [
    "También tiene los métodos `datetime.strftime()` y `datetime.strptime()` que operan de forma equivalente a la implementación en la librería `time`, aunque la conversión de una información de fecha a partir de un objeto datetime a un str se puede hacer de forma directa por medio de un f-string:"
   ]
  },
  {
   "cell_type": "code",
   "execution_count": 14,
   "metadata": {},
   "outputs": [
    {
     "name": "stdout",
     "output_type": "stream",
     "text": [
      "Hora actual: 08:07:43\n",
      "Fecha Actual: 10/03/2025\n"
     ]
    }
   ],
   "source": [
    "print(f\"Hora actual: {datetime.now():%H:%M:%S}\")\n",
    "print(f\"Fecha Actual: {datetime.now():%d/%m/%Y}\")"
   ]
  },
  {
   "cell_type": "markdown",
   "metadata": {},
   "source": [
    "Una aplicación exclusiva de los objetos datetime es la capacidad de operar con las fechas. Por ejemplo, a partir de la fecha, se puede calcular cuando será la próxima fecha luego de transcurridos 100 días utilizando una diferencia de tiempos (_time delta_) con el objeto especial `timedelta`, lo que retorna un nuevo objeto datetime:"
   ]
  },
  {
   "cell_type": "code",
   "execution_count": 15,
   "metadata": {},
   "outputs": [],
   "source": [
    "from datetime import timedelta"
   ]
  },
  {
   "cell_type": "code",
   "execution_count": 16,
   "metadata": {},
   "outputs": [
    {
     "name": "stdout",
     "output_type": "stream",
     "text": [
      "Fecha en 100 dias: 18/06/2025\n"
     ]
    }
   ],
   "source": [
    "time_now: datetime = datetime.now()\n",
    "time_delta: timedelta = timedelta(days=100)\n",
    "print(f\"Fecha en 100 dias: {time_now + time_delta:%d/%m/%Y}\")"
   ]
  },
  {
   "cell_type": "markdown",
   "metadata": {},
   "source": [
    "Así también, se puede obtener un objeto `timedelta` a partir de una operación de fechas:"
   ]
  },
  {
   "cell_type": "code",
   "execution_count": 17,
   "metadata": {},
   "outputs": [
    {
     "name": "stdin",
     "output_type": "stream",
     "text": [
      "Ingrese su fecha de nacimento ['DD/MM/YYYY']:  12/4/2024\n"
     ]
    },
    {
     "name": "stdout",
     "output_type": "stream",
     "text": [
      "Dias de vida transcurridos: 332 days, 8:08:06.488016\n"
     ]
    }
   ],
   "source": [
    "fec_nac: datetime = datetime.strptime(input(\"Ingrese su fecha de nacimento ['DD/MM/YYYY']: \"), \"%d/%m/%Y\")\n",
    "print(\"Dias de vida transcurridos:\", datetime.now() - fec_nac)"
   ]
  },
  {
   "cell_type": "markdown",
   "metadata": {},
   "source": [
    "Esto permite calcular tiempos en el pasado o futuro a partir de una fecha:"
   ]
  },
  {
   "cell_type": "code",
   "execution_count": 19,
   "metadata": {},
   "outputs": [
    {
     "name": "stdout",
     "output_type": "stream",
     "text": [
      "Fechas de las sesiones de clase:\n",
      "\t* Sesion  1: 20/03/2025\n",
      "\t* Sesion  2: 27/03/2025\n",
      "\t* Sesion  3: 03/04/2025\n",
      "\t* Sesion  4: 10/04/2025\n",
      "\t* Sesion  5: 17/04/2025\n",
      "\t* Sesion  6: 24/04/2025\n",
      "\t* Sesion  7: 01/05/2025\n",
      "\t* Sesion  8: 08/05/2025\n",
      "\t* Sesion  9: 15/05/2025\n",
      "\t* Sesion 10: 22/05/2025\n",
      "\t* Sesion 11: 29/05/2025\n",
      "\t* Sesion 12: 05/06/2025\n",
      "\t* Sesion 13: 12/06/2025\n",
      "\t* Sesion 14: 19/06/2025\n",
      "\t* Sesion 15: 26/06/2025\n"
     ]
    }
   ],
   "source": [
    "fec_ini: datetime = datetime(2025, 3, 20)     # Se define un datetime de forma directa (3 de marzo del 2025)\n",
    "delta: timedelta = timedelta(weeks=1)\n",
    "\n",
    "print(\"Fechas de las sesiones de clase:\")\n",
    "\n",
    "fec: datetime = fec_ini\n",
    "for idx, _ in enumerate(range(15), start=1):\n",
    "    print(f\"\\t* Sesion {idx:>2}: {fec:%d/%m/%Y}\")\n",
    "    fec += delta\n",
    "    "
   ]
  },
  {
   "cell_type": "code",
   "execution_count": null,
   "metadata": {},
   "outputs": [],
   "source": []
  }
 ],
 "metadata": {
  "kernelspec": {
   "display_name": "Python 3 (ipykernel)",
   "language": "python",
   "name": "python3"
  },
  "language_info": {
   "codemirror_mode": {
    "name": "ipython",
    "version": 3
   },
   "file_extension": ".py",
   "mimetype": "text/x-python",
   "name": "python",
   "nbconvert_exporter": "python",
   "pygments_lexer": "ipython3",
   "version": "3.12.4"
  }
 },
 "nbformat": 4,
 "nbformat_minor": 4
}
