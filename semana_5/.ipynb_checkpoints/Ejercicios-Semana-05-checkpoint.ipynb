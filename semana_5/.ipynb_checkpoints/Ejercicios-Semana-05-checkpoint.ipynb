{
 "cells": [
  {
   "cell_type": "markdown",
   "metadata": {},
   "source": [
    "# Hoja de Ejercicios 5"
   ]
  },
  {
   "cell_type": "markdown",
   "metadata": {},
   "source": [
    "###  Ejercicio 1:\n",
    "\n",
    "Implemente la función *creaCadena* que reciba como argumento una cadena y retorne otra cadena formada con todas las vocales (mayúsculas o minúsculas) de la cadena de entrada.\n",
    "\n",
    "Luego utilice la función en un programa principal que pida una frase y se forme una cadena con las vocales (mayúsculas o minúsculas) de la frase.\n",
    "\n",
    "Ejemplo de ejecución:\n",
    "\n",
    "      Ingrese una frase: El mundo VINTAGE esta de MODA\n",
    "      cadena formada: EuoIAEeaeOA"
   ]
  },
  {
   "cell_type": "code",
   "execution_count": null,
   "metadata": {},
   "outputs": [],
   "source": [
    "def creaCadena(cad):\n",
    "    pass\n",
    "    #quite el pass y complete la función\n",
    "\n",
    "\n",
    "################################################\n",
    "#escriba aquí su programa principal:\n"
   ]
  },
  {
   "cell_type": "markdown",
   "metadata": {},
   "source": [
    "###  Ejercicio 2:\n",
    "\n",
    "Desarrolle un programa que primero pida una frase y después una palabra. Finalmente, el programa deberá contar cuantes veces esta contenida la palabra en la frase.\n",
    "\n",
    "Ejemplo de ejecución:\n",
    "\n",
    "    Ingrese una frase: El escenario está en la esquina de la calle Alvares\n",
    "    Ingrese una palabra: es\n",
    "    La palabra es está contenida 4 veces en la frase."
   ]
  },
  {
   "cell_type": "code",
   "execution_count": null,
   "metadata": {},
   "outputs": [],
   "source": [
    "#escriba su programa aquí:\n",
    "\n",
    "\n"
   ]
  },
  {
   "cell_type": "markdown",
   "metadata": {},
   "source": [
    "### Ejercicio 3\n",
    "Escriba un programa que pida por separado el nombre de *N* alumnos, genere aleatoriamente 5 notas para cada uno y finalmente,\n",
    "forme una cadena con toda la información ingresada y generada, según el siguiente ejemplo:\n",
    "\n",
    "si *N* es 3 y los nombres ingresados fueron Juan, Rita y Carmen la cadena a formar podría ser:\n",
    "\n",
    "    \"Juan,12,5,6,14,8|Rita,18,7,11,6,12|Carmen,16,15,13,7,8\"\n",
    "\n",
    "Obs.: Puede hacer que el programa pida el valor de *N* por teclado"
   ]
  },
  {
   "cell_type": "code",
   "execution_count": null,
   "metadata": {},
   "outputs": [],
   "source": [
    "#escriba su programa aquí:\n",
    "\n",
    "\n"
   ]
  },
  {
   "cell_type": "markdown",
   "metadata": {},
   "source": [
    "### Ejercicio 4\n",
    "Escriba un programa que pida una frase y luego de ello, muestre cada palabra de la frase al revés.\n",
    "\n",
    "Ejemplo de ejecución:"
   ]
  },
  {
   "cell_type": "markdown",
   "metadata": {},
   "source": [
    "Ingrese una frase:  Solo se que nada se dijo un sabio\n",
    "    \n",
    "Palabras al revés de la frase: \n",
    "                        \n",
    "oloS\n",
    "    \n",
    "es\n",
    "    \n",
    "euq\n",
    "    \n",
    "adan\n",
    "    \n",
    "es\n",
    "    \n",
    "ojid\n",
    "    \n",
    "nu\n",
    "    \n",
    "oibas"
   ]
  },
  {
   "cell_type": "code",
   "execution_count": null,
   "metadata": {},
   "outputs": [],
   "source": [
    "#escriba su programa aquí:\n",
    "\n",
    "\n"
   ]
  },
  {
   "cell_type": "markdown",
   "metadata": {},
   "source": [
    "### Ejercicio 5\n",
    "\n",
    "Desarrolle un programa que pida una frase y luego de ello muestre la frase pero con todas sus letras 'a' o 'A' eliminadas.\n",
    "\n",
    "Ejemplo:\n",
    "\n",
    "Ingrese una frase: Vive como si fuerAs a morir mañAna\n",
    "\n",
    "Frase procesada: Vive como si fuers morir mñn"
   ]
  },
  {
   "cell_type": "code",
   "execution_count": null,
   "metadata": {},
   "outputs": [],
   "source": [
    "#escriba su programa aquí:\n",
    "\n",
    "\n",
    "\n"
   ]
  }
 ],
 "metadata": {
  "kernelspec": {
   "display_name": "Python 3 (ipykernel)",
   "language": "python",
   "name": "python3"
  },
  "language_info": {
   "codemirror_mode": {
    "name": "ipython",
    "version": 3
   },
   "file_extension": ".py",
   "mimetype": "text/x-python",
   "name": "python",
   "nbconvert_exporter": "python",
   "pygments_lexer": "ipython3",
   "version": "3.12.4"
  }
 },
 "nbformat": 4,
 "nbformat_minor": 4
}
