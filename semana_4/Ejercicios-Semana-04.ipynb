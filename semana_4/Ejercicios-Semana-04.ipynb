{
 "cells": [
  {
   "cell_type": "markdown",
   "id": "11166baa-1ba4-4260-a715-8c991419440f",
   "metadata": {},
   "source": [
    "# Hoja de Ejercicios 4"
   ]
  },
  {
   "cell_type": "markdown",
   "id": "05447c65-76df-431a-ad76-817f27acb2b2",
   "metadata": {},
   "source": [
    "###  **Ejercicio 1**\n",
    "\n",
    "Escriba una función *trianguloValido(lado1, lado2, lado3)* que retorne un valor lógico que indique si los tres valores de entrada pueden representar los lados de un triangulo que existe. Utilice esta función en un programa que pida los lados de un triángulo e indique si el triángulo existe o no.\n",
    "\n",
    "Recuerde el teorema de la \"existencia de un triángulo\" "
   ]
  },
  {
   "cell_type": "code",
   "execution_count": 1,
   "id": "336b7a53-0520-48fb-a9b7-a21e7c522785",
   "metadata": {},
   "outputs": [],
   "source": [
    "# acá defina la funcion\n",
    "\n",
    "\n",
    "\n",
    "###############################################\n",
    "# aca escriba el programa principal: Main\n",
    "\n"
   ]
  },
  {
   "cell_type": "markdown",
   "id": "0ebc007e-e0de-4f2d-a9a4-0ea3b027e8ac",
   "metadata": {},
   "source": [
    "### **Ejercicio 2**\n",
    "Escriba una funcion *max_min* que tome un número variable de valores (numeros enteros) de entrada y retorne los valores máximo y mínimo. Utilice esta función para hacer un programa que pida al usuario cinco valores y retorne el valor máximo y mínimo de esos 5 valores"
   ]
  },
  {
   "cell_type": "code",
   "execution_count": 2,
   "id": "87e65d32-21eb-450f-8c11-67f3939a603a",
   "metadata": {},
   "outputs": [],
   "source": [
    "# acá defina la funcion\n",
    "\n",
    "\n",
    "\n",
    "#########################################\n",
    "# aca escriba el programa principal: Main\n",
    "\n"
   ]
  },
  {
   "cell_type": "markdown",
   "id": "ef56f762-e235-452f-8b85-ac8a7a8293fb",
   "metadata": {},
   "source": [
    "### **Ejercicio 3**\n",
    "Escriba la funcion *esPrimo(num)* que retorne un valor booleano que indique si un número es primo o no. Utilice esta función para encontrar un listado de todos los trios de primos sexys hasta el número 1000. Los primos \"sexys\" son primos separados por 6 unidades y un \"trio de primos sexys\" son tres numeros primos de la forma (p, p+6, p+12). Por ejemplo, el primer trio sera (7, 12, 19). Nota: lo de \"sexy\" es resultado de que estan separados por seis unidades (six, en inglés)."
   ]
  },
  {
   "cell_type": "code",
   "execution_count": 3,
   "id": "ce1e5169-b6e4-495d-bbc9-a0ea3980ea9b",
   "metadata": {},
   "outputs": [],
   "source": [
    "# acá defina la funcion esPrimo\n",
    "\n",
    "\n",
    "\n",
    "\n",
    "##########################################\n",
    "# aca escriba el programa principal: Main\n",
    "\n",
    "\n"
   ]
  },
  {
   "cell_type": "markdown",
   "id": "81db8fa5-facf-4118-aa17-2f9e24b6e1fe",
   "metadata": {},
   "source": [
    "### **Ejercicio 4**\n",
    "Un triangulo arbitrario puede ser descrito por las coordenadas de sus tres vertices: $(x_{1}, y_{1}), (x_{2}, y_{2}), (x_{3}, y_{3})$. El area del triangulo esta dado por la formula:\n",
    "\n",
    "$$ A = \\frac{1}{2} [x_{2}y_{3} - x_{3}y_{2} - x_{1}y_{3} + x_{3}y_{1} + x_{1}y_{2} - x_{2}y_{1}] $$\n",
    "\n",
    "Escriba la función *area(vertices)* que retorne el área de un triangulo cuyos vertices estan especificados por el argumento vertices, que es una lista que contiene las coordenadas de los vertices. Por ejemplo, *vertices* puede ser [[0,0],[1,0],[0,2]] si las tres esquinas de un triangulo tienen coordenadas (0,0), (1,0) y (0,2)."
   ]
  },
  {
   "cell_type": "code",
   "execution_count": null,
   "id": "6b5fc214-39d6-4898-98e3-744d125bc1c3",
   "metadata": {
    "scrolled": true
   },
   "outputs": [],
   "source": [
    "# acá defina la funcion\n",
    "\n",
    "\n",
    "\n",
    "\n",
    "##########################################\n",
    "#invocación de la función:\n",
    "areaTriangulo = area([[0,0],[1,0],[0,2]])"
   ]
  },
  {
   "cell_type": "markdown",
   "id": "beea6f49-864b-4a50-93ea-b5427127c616",
   "metadata": {},
   "source": [
    "### **Ejercicio 5**\n",
    "\n",
    "Escriba la función *aprobados(notas)* que retorne una lista con las notas aprobadas de un salón de clase. Todas las notas del salón serán enviadas en una lista a la función. Utilice un *filtro* y una función lambda para formar la lista de notas aprobadas a retornar. "
   ]
  },
  {
   "cell_type": "code",
   "execution_count": null,
   "id": "e84b2ff4-7e0d-4562-8161-172adb1c34f8",
   "metadata": {},
   "outputs": [],
   "source": [
    "# acá defina la funcion\n",
    "\n",
    "\n",
    "\n",
    "\n",
    "##########################################\n",
    "#invocación de la función:\n",
    "listaAprobados = aprobados([18, 15, 10, 12, 16.5, 20, 11])\n",
    "#la listaAprobados debería ser: [18, 15, 16,5, 20]"
   ]
  }
 ],
 "metadata": {
  "kernelspec": {
   "display_name": "Python 3 (ipykernel)",
   "language": "python",
   "name": "python3"
  },
  "language_info": {
   "codemirror_mode": {
    "name": "ipython",
    "version": 3
   },
   "file_extension": ".py",
   "mimetype": "text/x-python",
   "name": "python",
   "nbconvert_exporter": "python",
   "pygments_lexer": "ipython3",
   "version": "3.11.7"
  }
 },
 "nbformat": 4,
 "nbformat_minor": 5
}
