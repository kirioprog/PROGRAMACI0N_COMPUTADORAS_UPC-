{
 "cells": [
  {
   "cell_type": "markdown",
   "metadata": {},
   "source": [
    "# Hoja de Ejercicios 6"
   ]
  },
  {
   "cell_type": "markdown",
   "metadata": {},
   "source": [
    "###  Ejercicio 1\n",
    "Escriba un programa que pida al usuario que ingrese una frase y retorne una estadistica del número de vocales (mayúsculas o minúsculas) que tiene la frase. El resultado de la estádistica debe almacenarse en un diccionario donde los llaves son cada una de las vocales y los valores son el número de cada vocal en la frase. \n",
    "Por ejemplo, si la frase ingresada es *\"Solo SE que nAda se\"* , entonces el diccionario formado debería ser:\n",
    "\n",
    "                                D = {'a':2, 'e':3, 'i':0, 'o':2, 'u':1}\n",
    "\n",
    "Finalmente, el programa deberá acceder a los datos del diccionario y mostrar sus elementos según el siguiente ejemplo de ejecución\n",
    "\n",
    "    Ingrese una frase: Este verano ha habido mucho sol\n",
    "    \n",
    "    A: 3\n",
    "    E: 3\n",
    "    I: 1\n",
    "    O: 3\n",
    "    U: 1"
   ]
  },
  {
   "cell_type": "code",
   "execution_count": null,
   "metadata": {},
   "outputs": [],
   "source": [
    "#escriba su programa aquí:\n",
    "\n",
    "\n",
    "\n"
   ]
  },
  {
   "cell_type": "markdown",
   "metadata": {},
   "source": [
    "### Ejercicio 2\n",
    "Escriba un programa que cree un diccionario de tamaño 5 y de la forma:\n",
    "\n",
    "    {'Q1': val, 'Q2': val, 'Q3': val, 'Q4': val, 'Q5': val}\n",
    "\n",
    "donde *val* será un valor aleatorio entero entre 0 y 20 el cual será la nota de un determinado Quiz. Luego, muestre los resultados leyendo el contenido del diccionario, en el siguiente formato de ejemplo: \n",
    "\n",
    "    Notas de Quiz\n",
    "    -------------\n",
    "    Quiz 1:  19\n",
    "    Quiz 2:   5\n",
    "    Quiz 3:  10\n",
    "    Quiz 4:   8\n",
    "    Quiz 5:  12\n",
    "    Quiz 6:  18\n",
    "    Quiz 7:   6\n",
    "    Quiz 8:  16\n",
    "    Quiz 9:  11\n",
    "    Quiz 10: 12"
   ]
  },
  {
   "cell_type": "code",
   "execution_count": null,
   "metadata": {},
   "outputs": [],
   "source": [
    "#escriba su programa aquí:\n",
    "\n",
    "\n"
   ]
  },
  {
   "cell_type": "markdown",
   "metadata": {},
   "source": [
    "### Ejercicio 3\n",
    "\n",
    "Complemente el programa anterior para que pueda manejar varios alumnos. Elija la estructura que le resulte mas conveniente (listas en diccionario, diccionarios en lista, diccionarios en diccionario).\n",
    "\n",
    "El resultado del programa debe quedar de acuerdo al siguiente ejemplo:\n",
    "\n",
    "    Numero de alumnos: 2\n",
    "    \n",
    "    Ingrese nombre 1: Juan\n",
    "    Juan - Notas:\n",
    "    ----------------------\n",
    "    Quiz 1: 12\n",
    "    Quiz 2:  5\n",
    "    Quiz 3:  6\n",
    "    Quiz 4: 14\n",
    "    Quiz 5: 18\n",
    "    \n",
    "    Ingrese nombre 2: Rita\n",
    "    Rita - Notas:\n",
    "    ----------------------\n",
    "    Quiz 1: 18\n",
    "    Quiz 2:  7\n",
    "    Quiz 3: 11\n",
    "    Quiz 4:  6\n",
    "    Quiz 5: 12"
   ]
  },
  {
   "cell_type": "code",
   "execution_count": null,
   "metadata": {},
   "outputs": [],
   "source": [
    "#escriba su programa aquí:\n",
    "\n"
   ]
  },
  {
   "cell_type": "markdown",
   "metadata": {},
   "source": [
    "### Ejercicio 4\n",
    "\n",
    "Escriba un programa que permita leer una cadena y luego determine la cantidad de palabras diferentes de la cadena. Debe utilizar obligatoriamente un conjunto como parte de su código de solución.\n",
    "\n",
    "Ejemplo:\n",
    "\n",
    "    Ingrese una cadena: juan es mi nombre y tu nombre tambien es juan\n",
    "    \n",
    "    La cadena tiene 7 palabras diferentes"
   ]
  },
  {
   "cell_type": "code",
   "execution_count": null,
   "metadata": {},
   "outputs": [],
   "source": [
    "def evaluaPalabra(cad):\n",
    "    pass #quite el pass y escriba el programa de la función\n",
    " \n",
    "\n",
    "################################################################\n",
    "palabra = input(\"Ingrese una palabra: \")\n",
    "\n",
    "if evaluaPalabra(palabra):\n",
    "    print(\"\\nLa palabra si tiene al menos un caracter numérico\")\n",
    "else:\n",
    "    print(\"La palabra no tiene ningún caracter numérico\")"
   ]
  }
 ],
 "metadata": {
  "kernelspec": {
   "display_name": "Python 3 (ipykernel)",
   "language": "python",
   "name": "python3"
  },
  "language_info": {
   "codemirror_mode": {
    "name": "ipython",
    "version": 3
   },
   "file_extension": ".py",
   "mimetype": "text/x-python",
   "name": "python",
   "nbconvert_exporter": "python",
   "pygments_lexer": "ipython3",
   "version": "3.12.4"
  }
 },
 "nbformat": 4,
 "nbformat_minor": 4
}
