{
 "cells": [
  {
   "cell_type": "markdown",
   "metadata": {},
   "source": [
    "# Hoja de Ejercicios 3"
   ]
  },
  {
   "cell_type": "markdown",
   "metadata": {},
   "source": [
    "### **Ejercicio 1**\n",
    "Escriba un programa que pida al usuario 10 números reales los cuales serán almacenados en una lista, el programa deberá almacenar en otra lista los números reales de la primera lista que estan comprendidos entre 20 y 60. Muestre al final las 2 listas resultantes.\n",
    "\n",
    "El resultado de su programa debe respetar el formato del siguiente ejemplo:\n",
    "\n",
    "    Ingrese número 1: 5.464\n",
    "    Ingrese número 2: -0.547\n",
    "    Ingrese número 3: 45.392\n",
    "    Ingrese número 4: 67.45\n",
    "    Ingrese número 5: 5.6\n",
    "    Ingrese número 6: 33.6993\n",
    "    Ingrese número 7: 6.47\n",
    "    Ingrese número 8: -6.459\n",
    "    Ingrese número 9: 55.9683\n",
    "    Ingrese número 10: 34.035\n",
    "\n",
    "    Números reales: \n",
    "          número 1 :       5.46\n",
    "          número 2 :      -0.55\n",
    "          número 3 :      45.39\n",
    "          número 4 :      67.45\n",
    "          número 5 :       5.60\n",
    "          número 6 :      33.70\n",
    "          número 7 :       6.47\n",
    "          número 8 :      -6.46\n",
    "          número 9 :      55.97\n",
    "          número 10:      34.03\n",
    "\n",
    "    Números que pertenecen al intervalo: \n",
    "           45.392\n",
    "           33.6993\n",
    "           55.9683\n",
    "           34.035"
   ]
  },
  {
   "cell_type": "code",
   "execution_count": 9,
   "metadata": {},
   "outputs": [],
   "source": [
    "#escriba su programa:\n",
    "\n",
    "\n"
   ]
  },
  {
   "cell_type": "markdown",
   "metadata": {},
   "source": [
    "### **Ejercicio 2**\n",
    "\n",
    "Desarrolle un programa que genere por comprehension una lista de 6 números aleatorios enteros de 2 dígitos cada uno, la lista deberá ser mostrada en pantalla. Luego de ello, el programa deberá insertar al lado derecho de cada número par de la lista, el texto \"00\", mostrándose la lista actualizada.\n",
    "\n",
    "El resultado de su programa debe respetar el formato del siguiente ejemplo:\n",
    "\n",
    "       Lista inicial:  [99, 36, 78, 15, 27, 87]\n",
    "\n",
    "       Lista actualizada:  [99, 36, '00', 78, '00', 15, 27, 87]"
   ]
  },
  {
   "cell_type": "code",
   "execution_count": null,
   "metadata": {},
   "outputs": [],
   "source": [
    "#escriba su programa:\n",
    "\n"
   ]
  },
  {
   "cell_type": "markdown",
   "metadata": {},
   "source": [
    "### **Ejercicio 3**\n",
    "Escriba un programa que pida al usuario 5 nombres de personas y las almacene en una lista, el programa le deberá generar a cada persona un código aleatorio (número entero de 2 digitos), teniendo en cuenta que 2 o mas personas no pueden tener el mismo código. Finalmente, deberá mostrar una tabla informativa.\n",
    "\n",
    "El resultado de su programa deberá respetar el formato del siguiente ejemplo:\n",
    "\n",
    "    Nombre de persona 1: enrique\n",
    "    Nombre de persona 2: laura\n",
    "    Nombre de persona 3: carmen\n",
    "    Nombre de persona 4: juan\n",
    "    Nombre de persona 5: richard\n",
    "\n",
    "    enrique     :  23\n",
    "    laura       :  52\n",
    "    carmen      :  50\n",
    "    juan        :  12\n",
    "    richard     :  15"
   ]
  },
  {
   "cell_type": "code",
   "execution_count": 12,
   "metadata": {},
   "outputs": [],
   "source": [
    "#escriba su programa:\n",
    "\n",
    "\n"
   ]
  },
  {
   "cell_type": "markdown",
   "metadata": {},
   "source": [
    "### **Ejercicio 4**\n",
    "Se tiene una lista con los datos (nombre y edad) de un grupo de personas que quieren asistír a una fiesta. El problema es que solo deben de asistir personas mayores de edad. Debe de crear otra lista con todas las personas (tanto el nombre como la edad) que sean mayores de edad y mostrar sus datos.\n",
    "\n",
    "El resultado de su programa deberá respetar el formato del siguiente ejemplo:\n",
    "\n",
    "\n",
    "            Personas que pueden ir a la fiesta\n",
    "            Andrea   : 18\n",
    "            Juan     : 22\n",
    "            Daniela  : 22\n",
    "            Renato   : 24\n",
    "            Marcela  : 22\n",
    "            Carlos   : 40\n",
    "            Sergio   : 21\n",
    "            Tatiana  : 33\n",
    "            Gisella  : 36\n",
    "            Julio    : 21\n",
    "            Pedro    : 33"
   ]
  },
  {
   "cell_type": "code",
   "execution_count": 8,
   "metadata": {},
   "outputs": [],
   "source": [
    "# Lista de personas\n",
    "lista_personas = [\"Andrea\", 18,\n",
    "                 \"Juan\", 22,\n",
    "                 \"Arturo\", 16,\n",
    "                 \"Manuel\", 15,\n",
    "                 \"Daniela\", 22,\n",
    "                 \"Renato\", 24,\n",
    "                 \"Marcela\", 22,\n",
    "                 \"Andres\", 17,\n",
    "                 \"Carlos\", 40,\n",
    "                 \"Sergio\", 21,\n",
    "                 \"Tatiana\", 33,\n",
    "                 \"Gisella\", 36,\n",
    "                 \"Giancarlo\", 17,\n",
    "                 \"Julio\", 21,\n",
    "                 \"Pedro\", 33]\n",
    "\n",
    "#escriba su programa:\n",
    "\n"
   ]
  },
  {
   "cell_type": "markdown",
   "metadata": {},
   "source": [
    "### **Ejercicio 5**\n",
    "Escriba un programa que genere por comprehension una lista de 10 listas. Cada una de las 10 listas contendrá 5 valores aleatorios reales en el rango [0.5, 1.5>.\n",
    "\n",
    "El programa debe mostrar el contenido de cada lista, tal como se muestra en el siguiente ejemplo:\n",
    "\n",
    "    lista  1:  0.536, 0.765, 0.774, 1.199, 0.729\n",
    "    lista  2:  0.750, 0.561, 1.374, 1.201, 1.080\n",
    "    lista  3:  1.012, 1.280, 0.590, 1.370, 1.018\n",
    "    lista  4:  0.850, 0.958, 0.846, 0.807, 0.888\n",
    "    lista  5:  1.465, 0.889, 1.054, 1.022, 1.244\n",
    "    lista  6:  1.309, 1.330, 0.803, 1.342, 0.665\n",
    "    lista  7:  1.197, 1.336, 0.690, 0.863, 0.811\n",
    "    lista  8:  1.174, 0.785, 0.764, 0.946, 1.425\n",
    "    lista  9:  1.410, 1.192, 1.246, 1.206, 0.869\n",
    "    lista 10:  1.185, 1.314, 0.829, 0.721, 1.132"
   ]
  },
  {
   "cell_type": "code",
   "execution_count": 9,
   "metadata": {},
   "outputs": [],
   "source": [
    "#escriba su programa:\n",
    "\n"
   ]
  }
 ],
 "metadata": {
  "kernelspec": {
   "display_name": "Python 3 (ipykernel)",
   "language": "python",
   "name": "python3"
  },
  "language_info": {
   "codemirror_mode": {
    "name": "ipython",
    "version": 3
   },
   "file_extension": ".py",
   "mimetype": "text/x-python",
   "name": "python",
   "nbconvert_exporter": "python",
   "pygments_lexer": "ipython3",
   "version": "3.13.5"
  }
 },
 "nbformat": 4,
 "nbformat_minor": 4
}
