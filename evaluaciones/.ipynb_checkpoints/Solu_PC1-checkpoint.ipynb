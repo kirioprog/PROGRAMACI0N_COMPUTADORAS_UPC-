{
 "cells": [
  {
   "cell_type": "code",
   "execution_count": 2,
   "id": "7fb61723-8778-4010-a2d0-79f76d065ea7",
   "metadata": {},
   "outputs": [],
   "source": [
    "#Implementar un programa en Python que pida al usuario una frase, el programa debe ejecutarse de la siguiente manera\n",
    "#\n",
    "#Ingrese una frase: Procesamiento de SEÑALES DIGITAles y gaussianas\n",
    "#\n",
    "#Palabras con 's' al final:\n",
    "#\n",
    "#DIGITAles\n",
    "#gaussianas\n",
    "#\n",
    "#Palabras con al menos una letra minuscula: 5\n",
    "#\n"
   ]
  },
  {
   "cell_type": "code",
   "execution_count": 18,
   "id": "ec92b75b-f8ec-4fd3-9273-e41e3ef24009",
   "metadata": {},
   "outputs": [
    {
     "name": "stdin",
     "output_type": "stream",
     "text": [
      "Ingrese la frase:  HolaS comosssSs vassS\n"
     ]
    },
    {
     "name": "stdout",
     "output_type": "stream",
     "text": [
      "['comosssSs']\n"
     ]
    }
   ],
   "source": [
    "#Ingreso de datos\n",
    "phrase = input(\"Ingrese la frase: \")\n",
    "L = phrase.split() #Separa la frase en palabras\n",
    "L_letras = []\n",
    "\n",
    "for i in L:\n",
    "    letras = list(i)\n",
    "    L_letras.append(letras)\n",
    "    print(letras)\n",
    "    print(L_letras)\n",
    "\n",
    "conta_min = 0\n",
    "\n",
    "for j in L_letras:\n",
    "    for k in L_letras[j]:\n",
    "        print()\n",
    "\n",
    "\n",
    "\n",
    "\n",
    "\n",
    "#Palabras con 's' al final\n",
    "#Estrategia: contar las palabras de la lista y recorrer cada letra si al final se encuentra una 's'\n",
    "#en el conteo de cada elemento de la cadena\n",
    "\n",
    "\n"
   ]
  },
  {
   "cell_type": "code",
   "execution_count": 46,
   "id": "ec297f97-b535-4bcd-9043-1bbf89c56eb2",
   "metadata": {},
   "outputs": [
    {
     "name": "stdin",
     "output_type": "stream",
     "text": [
      "Ingrese la frase:  Procesamiento de SEÑALES DIGITAles y gaussianas\n"
     ]
    },
    {
     "name": "stdout",
     "output_type": "stream",
     "text": [
      "Palabras con 's' al final:\n",
      "\n",
      "DIGITAles\n",
      "gaussianas\n",
      "\n",
      "Palabras con al menos una minuscula\n",
      "\n",
      "Palabras con al menos una letra minúscula: 5\n",
      "5\n",
      "10\n"
     ]
    }
   ],
   "source": [
    "#Implementar un programa en Python que pida al usuario una frase, el programa debe ejecutarse de la siguiente manera\n",
    "#\n",
    "#Ingrese una frase: Procesamiento de SEÑALES DIGITAles y gaussianas\n",
    "#\n",
    "#Palabras con 's' al final:\n",
    "#\n",
    "#DIGITAles\n",
    "#gaussianas\n",
    "#\n",
    "#Palabras con al menos una letra minuscula: 5\n",
    "#\n",
    "\n",
    "#Ingreso de datos\n",
    "phrase = input(\"Ingrese la frase: \")\n",
    "L = phrase.split() #Separa la frase en palabras\n",
    "\n",
    "L_s = list(filter(lambda x:x[-1] in \"s\",L)) #Recordar, ultima posición es -1\n",
    "\n",
    "print(\"Palabras con 's' al final:\\n\")\n",
    "for i in L_s:\n",
    "    print(i)\n",
    "\n",
    "print(\"\\nPalabras con al menos una minuscula\\n\")\n",
    "contMin = 0\n",
    "\n",
    "for j in L:    \n",
    "    cont1 = 0\n",
    "    for k in j: #Separa las palabras en letras\n",
    "        #print(k)\n",
    "        if k.islower():\n",
    "            cont1+=1\n",
    "    if cont1 >=1:\n",
    "        contMin+=1   \n",
    "print(f\"Palabras con al menos una letra minúscula: {contMin}\")\n",
    "\n",
    "print(contMin)\n",
    "print(cont1)"
   ]
  },
  {
   "cell_type": "code",
   "execution_count": null,
   "id": "5cdb875e-f8f8-4a3a-b320-c8334f718c1f",
   "metadata": {},
   "outputs": [],
   "source": []
  }
 ],
 "metadata": {
  "kernelspec": {
   "display_name": "Python [conda env:base] *",
   "language": "python",
   "name": "conda-base-py"
  },
  "language_info": {
   "codemirror_mode": {
    "name": "ipython",
    "version": 3
   },
   "file_extension": ".py",
   "mimetype": "text/x-python",
   "name": "python",
   "nbconvert_exporter": "python",
   "pygments_lexer": "ipython3",
   "version": "3.13.5"
  }
 },
 "nbformat": 4,
 "nbformat_minor": 5
}
