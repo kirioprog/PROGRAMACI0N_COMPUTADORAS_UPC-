{
 "cells": [
  {
   "cell_type": "markdown",
   "id": "534bea3c-4e7b-4e6b-880f-8e4b2a9b21b7",
   "metadata": {},
   "source": [
    "# TB1 - 2025_2"
   ]
  },
  {
   "cell_type": "markdown",
   "id": "8bd0baae-d2d3-4d8b-878a-62cd5ac7bd4a",
   "metadata": {},
   "source": [
    "Simula un cajero automático que permita:\n",
    "\n",
    "- Consultar saldo\n",
    "- Depositar dinero\n",
    "- Retirar dinero\n",
    "- Salir\n",
    "\n",
    "\n",
    "El programa debe iniciar con un saldo de $1000 y validar que no se pueda retirar más dinero del disponible. Debe mostrar un menú con opciones numéricas y seguir ejecutándose hasta que el usuario elija salir.\n",
    "\n",
    "\n",
    "\n",
    "*Requisitos:*\n",
    "\n",
    "- Usar while para el menú principal.\n",
    "- Usar match-case o if-elif-else para las opciones.\n",
    "- Validar entradas numéricas con try-except.\n",
    "- Impedir retiros superiores al saldo."
   ]
  },
  {
   "cell_type": "code",
   "execution_count": 3,
   "id": "37da4317-f560-4cc7-8761-431213a6278d",
   "metadata": {
    "scrolled": true
   },
   "outputs": [
    {
     "name": "stdout",
     "output_type": "stream",
     "text": [
      "\n",
      "ELIJA UNA DE LAS SIGUIENTES OPCIONES\n",
      "====================================\n",
      "1)  Consultar saldo\n",
      "2)  Depositar dinero\n",
      "3)  Retirar dinero\n",
      "4)  salir\n",
      "\n"
     ]
    },
    {
     "name": "stdin",
     "output_type": "stream",
     "text": [
      "Elija una de las opciones:  2\n"
     ]
    },
    {
     "name": "stdout",
     "output_type": "stream",
     "text": [
      "\n"
     ]
    },
    {
     "name": "stdin",
     "output_type": "stream",
     "text": [
      "Ingrese el monto a depositar:  hello\n"
     ]
    },
    {
     "name": "stdout",
     "output_type": "stream",
     "text": [
      "El valor ingresado no es valido\n",
      "\n",
      "\n",
      "ELIJA UNA DE LAS SIGUIENTES OPCIONES\n",
      "====================================\n",
      "1)  Consultar saldo\n",
      "2)  Depositar dinero\n",
      "3)  Retirar dinero\n",
      "4)  salir\n",
      "\n"
     ]
    },
    {
     "name": "stdin",
     "output_type": "stream",
     "text": [
      "Elija una de las opciones:  4\n"
     ]
    },
    {
     "name": "stdout",
     "output_type": "stream",
     "text": [
      "\n"
     ]
    }
   ],
   "source": [
    "saldo = 1000\n",
    "\n",
    "value = True\n",
    "\n",
    "while value :\n",
    "    \n",
    "    try:\n",
    "        print()\n",
    "        print(\"ELIJA UNA DE LAS SIGUIENTES OPCIONES\")\n",
    "        print(\"====================================\")\n",
    "        print(\"1)  Consultar saldo\")\n",
    "        print(\"2)  Depositar dinero\")\n",
    "        print(\"3)  Retirar dinero\")\n",
    "        print(\"4)  salir\")\n",
    "        print()\n",
    "        ingreso = int(input(\"Elija una de las opciones: \"))\n",
    "        print()\n",
    "        \n",
    "    except:\n",
    "        print(\"La opcion ingresada no es valida\\n\")\n",
    "        continue \n",
    "    \n",
    "    if ingreso in range(1,5) :\n",
    "\n",
    "        \n",
    "        if 1 == ingreso:\n",
    "            print(f\"El saldo disponible es ${saldo}\\n\")\n",
    "            \n",
    "        elif 2 == ingreso:\n",
    "            try:\n",
    "                saldo += int(input(\"Ingrese el monto a depositar: \"))\n",
    "                print()\n",
    "            except:\n",
    "                print(\"El valor ingresado no es valido\\n\")\n",
    "            \n",
    "        elif 3 == ingreso:\n",
    "            try:\n",
    "                retiro = int(input(\"Ingrese el monto a retirar: \"))\n",
    "                if retiro > saldo:\n",
    "                    print()\n",
    "                    print(\"No dispone de saldo suficiente\\n\")\n",
    "                else:\n",
    "                    saldo -= retiro\n",
    "            except:\n",
    "                print()\n",
    "                print(\"el valor ingresado no es valido\\n \")\n",
    "            \n",
    "        else:\n",
    "            value = False\n",
    "        \n",
    "    else:\n",
    "        print(\"LA OPCION INGRESADA NO ES VALIDA\\n\")"
   ]
  },
  {
   "cell_type": "code",
   "execution_count": null,
   "id": "b3930829-6406-42f5-ba0c-d678d871731d",
   "metadata": {},
   "outputs": [],
   "source": [
    "\n"
   ]
  }
 ],
 "metadata": {
  "kernelspec": {
   "display_name": "Python 3 (ipykernel)",
   "language": "python",
   "name": "python3"
  },
  "language_info": {
   "codemirror_mode": {
    "name": "ipython",
    "version": 3
   },
   "file_extension": ".py",
   "mimetype": "text/x-python",
   "name": "python",
   "nbconvert_exporter": "python",
   "pygments_lexer": "ipython3",
   "version": "3.13.5"
  }
 },
 "nbformat": 4,
 "nbformat_minor": 5
}
